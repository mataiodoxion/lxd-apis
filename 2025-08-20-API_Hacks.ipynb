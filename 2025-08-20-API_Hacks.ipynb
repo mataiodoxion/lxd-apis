{
 "cells": [
  {
   "cell_type": "markdown",
   "id": "64b5ac44",
   "metadata": {},
   "source": [
    "### Hacks\n",
    "\n",
    "all hacks listed below you can find them in their respected notebook"
   ]
  },
  {
   "cell_type": "markdown",
   "id": "87ff27b6",
   "metadata": {},
   "source": [
    "### Try/Error Handling"
   ]
  },
  {
   "cell_type": "markdown",
   "id": "895c2219",
   "metadata": {},
   "source": [
    "### Basic Async"
   ]
  },
  {
   "cell_type": "markdown",
   "id": "722e295c",
   "metadata": {},
   "source": [
    "### Handling Data\n",
    "Use the below template and try to get a JSON output for the word \"lesson\" or any word of your choice\n"
   ]
  },
  {
   "cell_type": "code",
   "execution_count": null,
   "id": "40188491",
   "metadata": {
    "vscode": {
     "languageId": "javascript"
    }
   },
   "outputs": [],
   "source": [
    "%%js // indicates in jupeter notebook that this is js (make sure it says js in bottom right corner)\n",
    "\n",
    "async function fetchWordData() {\n",
    "\n",
    "    try {\n",
    "\n",
    "\n",
    "        const data =\n",
    "\n",
    "        console.log(data);\n",
    "    }\n",
    "    catch (error) {\n",
    "        console.error(\"Error fetching data:\", error);\n",
    "\n",
    "    }\n",
    "}"
   ]
  }
 ],
 "metadata": {
  "language_info": {
   "name": "python"
  }
 },
 "nbformat": 4,
 "nbformat_minor": 5
}
