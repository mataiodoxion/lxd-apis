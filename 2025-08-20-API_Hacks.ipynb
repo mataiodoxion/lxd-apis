{
 "cells": [
  {
   "cell_type": "markdown",
   "id": "64b5ac44",
   "metadata": {},
   "source": [
    "### Hacks\n",
    "\n",
    "all hacks listed below you can find them in their respected notebook"
   ]
  },
  {
   "cell_type": "markdown",
   "id": "87ff27b6",
   "metadata": {},
   "source": [
    "### Try/Error Handling"
   ]
  },
  {
   "cell_type": "markdown",
   "id": "895c2219",
   "metadata": {},
   "source": [
    "### Basic Async"
   ]
  },
  {
   "cell_type": "markdown",
   "id": "722e295c",
   "metadata": {},
   "source": [
    "### Handling Data"
   ]
  }
 ],
 "metadata": {
  "language_info": {
   "name": "python"
  }
 },
 "nbformat": 4,
 "nbformat_minor": 5
}
