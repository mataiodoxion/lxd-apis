{
 "cells": [
  {
   "cell_type": "markdown",
   "id": "e37d78ab",
   "metadata": {},
   "source": [
    "### Handling API Data\n"
   ]
  }
 ],
 "metadata": {
  "language_info": {
   "name": "python"
  }
 },
 "nbformat": 4,
 "nbformat_minor": 5
}
