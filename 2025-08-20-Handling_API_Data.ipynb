{
 "cells": [
  {
   "cell_type": "markdown",
   "id": "e37d78ab",
   "metadata": {},
   "source": [
    "### Handling API Data\n"
   ]
  },
  {
   "cell_type": "code",
   "execution_count": null,
   "id": "8e625f69",
   "metadata": {
    "vscode": {
     "languageId": "html"
    }
   },
   "outputs": [],
   "source": [
    "%%html \n",
    "\n"
   ]
  }
 ],
 "metadata": {
  "language_info": {
   "name": "python"
  }
 },
 "nbformat": 4,
 "nbformat_minor": 5
}
